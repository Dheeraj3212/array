{
 "cells": [
  {
   "cell_type": "code",
   "execution_count": 3,
   "id": "b46a2b34-54d1-42df-8e95-c7b201adca38",
   "metadata": {},
   "outputs": [
    {
     "name": "stdout",
     "output_type": "stream",
     "text": [
      "393\n"
     ]
    }
   ],
   "source": [
    "def summation(arr):\n",
    "    n = len(arr)\n",
    "    sumVal = 0\n",
    "    for i in range(n):\n",
    "        sumVal+= arr[i]\n",
    "    return sumVal\n",
    "arr = [23,43,54,32,21,34,45,65,76]\n",
    "result = summation(arr)\n",
    "print(result)"
   ]
  },
  {
   "cell_type": "code",
   "execution_count": 4,
   "id": "4820b726-a896-4930-9d44-1c9c0d1f0156",
   "metadata": {},
   "outputs": [],
   "source": [
    "arr.insert(1,23)"
   ]
  },
  {
   "cell_type": "code",
   "execution_count": 5,
   "id": "5a63b123-a0f4-4313-95b7-b60343490371",
   "metadata": {},
   "outputs": [
    {
     "data": {
      "text/plain": [
       "[23, 23, 43, 54, 32, 21, 34, 45, 65, 76]"
      ]
     },
     "execution_count": 5,
     "metadata": {},
     "output_type": "execute_result"
    }
   ],
   "source": [
    "arr"
   ]
  },
  {
   "cell_type": "code",
   "execution_count": 6,
   "id": "dabfb3b8-28fa-4c89-8490-bdf7eb4c9c06",
   "metadata": {},
   "outputs": [],
   "source": [
    "arr.remove(23)"
   ]
  },
  {
   "cell_type": "code",
   "execution_count": 7,
   "id": "5195b3a0-e9de-402c-9b72-b43eba130cbf",
   "metadata": {},
   "outputs": [
    {
     "data": {
      "text/plain": [
       "[23, 43, 54, 32, 21, 34, 45, 65, 76]"
      ]
     },
     "execution_count": 7,
     "metadata": {},
     "output_type": "execute_result"
    }
   ],
   "source": [
    "arr"
   ]
  },
  {
   "cell_type": "code",
   "execution_count": 12,
   "id": "ce28e69c-137c-4f57-9b63-fbda43560d58",
   "metadata": {},
   "outputs": [
    {
     "name": "stdout",
     "output_type": "stream",
     "text": [
      "-1\n"
     ]
    }
   ],
   "source": [
    "def linearsearch(arr, target):\n",
    "    for i in range(len(arr)):\n",
    "        if arr[i] == target:\n",
    "            return i\n",
    "    return -1  \n",
    "\n",
    "arr = [12, 34, 45, 65, 76, 45, 34, 56, 67]\n",
    "target = 30\n",
    "result = linearsearch(arr, target)\n",
    "print(result)"
   ]
  },
  {
   "cell_type": "code",
   "execution_count": 14,
   "id": "68cdaaef-b62a-438e-b8ec-4b5c551e4aa9",
   "metadata": {},
   "outputs": [
    {
     "name": "stdout",
     "output_type": "stream",
     "text": [
      "([2, 44, 32, 56], [3, 33, 45])\n"
     ]
    }
   ],
   "source": [
    "even = []\n",
    "odd = []\n",
    "def evenAndodd(arr):\n",
    "    for i in arr:\n",
    "        if i%2==0:\n",
    "            even.append(i)\n",
    "        else:\n",
    "            odd.append(i)\n",
    "    return even,odd\n",
    "arr = [2,3,44,33,45,32,56]\n",
    "print(evenAndodd(arr))"
   ]
  },
  {
   "cell_type": "code",
   "execution_count": 16,
   "id": "4ddefbfd-e9fb-4aa5-a62c-c8b66e9f3a95",
   "metadata": {},
   "outputs": [
    {
     "name": "stdout",
     "output_type": "stream",
     "text": [
      "primary Diagonal Sum: 2\n",
      "secondary Diagonal Sum: 0\n",
      "primary Diagonal Sum: 2\n",
      "secondary Diagonal Sum: 0\n",
      "primary Diagonal Sum: 2\n",
      "secondary Diagonal Sum: 4\n",
      "primary Diagonal Sum: 2\n",
      "secondary Diagonal Sum: 4\n",
      "primary Diagonal Sum: 13\n",
      "secondary Diagonal Sum: 15\n",
      "primary Diagonal Sum: 13\n",
      "secondary Diagonal Sum: 15\n",
      "primary Diagonal Sum: 13\n",
      "secondary Diagonal Sum: 38\n",
      "primary Diagonal Sum: 13\n",
      "secondary Diagonal Sum: 38\n",
      "primary Diagonal Sum: 36\n",
      "secondary Diagonal Sum: 38\n"
     ]
    }
   ],
   "source": [
    "def printDiagonalSum(arr):\n",
    "    n = len(arr)\n",
    "    primaryDiagonalSum = 0\n",
    "    secondaryDiagonalSum = 0\n",
    "    for i in range(n):\n",
    "        for j in range(n):\n",
    "            if i==j:\n",
    "                primaryDiagonalSum+= arr[i][j]\n",
    "            if((i+j)==(n-1)):\n",
    "                secondaryDiagonalSum+= arr[i][j]\n",
    "            print(\"primary Diagonal Sum:\", primaryDiagonalSum)\n",
    "            print(\"secondary Diagonal Sum:\", secondaryDiagonalSum)\n",
    "arr = [[2,3,4,],[8,11,14],[23,12,23]]\n",
    "printDiagonalSum(arr)"
   ]
  },
  {
   "cell_type": "code",
   "execution_count": 17,
   "id": "dad540dc-25fc-4711-9f89-b472b5002c08",
   "metadata": {},
   "outputs": [
    {
     "name": "stdout",
     "output_type": "stream",
     "text": [
      "Sum of array elements: 15\n"
     ]
    }
   ],
   "source": [
    "def array_sum(arr):\n",
    "    total = 0\n",
    "    for num in arr:\n",
    "        total += num\n",
    "    return total\n",
    "\n",
    "arr = [1, 2, 3, 4, 5]\n",
    "print(\"Sum of array elements:\", array_sum(arr))"
   ]
  },
  {
   "cell_type": "code",
   "execution_count": 18,
   "id": "b708e280-c6fc-48e9-a9d2-63f73d51ff5f",
   "metadata": {},
   "outputs": [
    {
     "name": "stdout",
     "output_type": "stream",
     "text": [
      "Average of array elements: 3.0\n"
     ]
    }
   ],
   "source": [
    "def array_average(arr):\n",
    "    total = sum(arr)\n",
    "    return total / len(arr)\n",
    "\n",
    "arr = [1, 2, 3, 4, 5]\n",
    "print(\"Average of array elements:\", array_average(arr))"
   ]
  },
  {
   "cell_type": "code",
   "execution_count": 19,
   "id": "7849a588-18ce-458a-9d8c-a18dbba746e9",
   "metadata": {},
   "outputs": [
    {
     "name": "stdout",
     "output_type": "stream",
     "text": [
      "Maximum element in the array: 50\n"
     ]
    }
   ],
   "source": [
    "def array_max(arr):\n",
    "    max_value = arr[0]\n",
    "    for num in arr:\n",
    "        if num > max_value:\n",
    "            max_value = num\n",
    "    return max_value\n",
    "\n",
    "arr = [10, 30, 20, 50, 40]\n",
    "print(\"Maximum element in the array:\", array_max(arr))"
   ]
  },
  {
   "cell_type": "code",
   "execution_count": 20,
   "id": "1490f8ff-e776-4585-91f5-875037c6f09a",
   "metadata": {},
   "outputs": [
    {
     "name": "stdout",
     "output_type": "stream",
     "text": [
      "Index of target element: 2\n"
     ]
    }
   ],
   "source": [
    "def array_search(arr, target):\n",
    "    for i in range(len(arr)):\n",
    "        if arr[i] == target:\n",
    "            return i\n",
    "    return -1\n",
    "\n",
    "arr = [10, 20, 30, 40, 50]\n",
    "target = 30\n",
    "print(\"Index of target element:\", array_search(arr, target))"
   ]
  },
  {
   "cell_type": "code",
   "execution_count": 21,
   "id": "ff76ca75-849f-445e-ab35-93a19d70d932",
   "metadata": {},
   "outputs": [
    {
     "name": "stdout",
     "output_type": "stream",
     "text": [
      "Reversed array: [5, 4, 3, 2, 1]\n"
     ]
    }
   ],
   "source": [
    "def reverse_array(arr):\n",
    "    return arr[::-1]\n",
    "\n",
    "arr = [1, 2, 3, 4, 5]\n",
    "print(\"Reversed array:\", reverse_array(arr))"
   ]
  },
  {
   "cell_type": "code",
   "execution_count": 22,
   "id": "99d41d41-cbfb-40dc-b7fa-9a83815d4156",
   "metadata": {},
   "outputs": [
    {
     "name": "stdout",
     "output_type": "stream",
     "text": [
      "Output: True\n"
     ]
    }
   ],
   "source": [
    "def contains_duplicates(arr):\n",
    "    seen = set()\n",
    "    for num in arr:\n",
    "        if num in seen:\n",
    "            return True\n",
    "        seen.add(num)\n",
    "    return False\n",
    "\n",
    "arr = [1, 2, 4, 2, 5, 9]\n",
    "print(\"Output:\", contains_duplicates(arr))"
   ]
  },
  {
   "cell_type": "code",
   "execution_count": 23,
   "id": "054d768a-30fe-43b0-b15d-fc00acf05584",
   "metadata": {},
   "outputs": [
    {
     "name": "stdout",
     "output_type": "stream",
     "text": [
      "Output: [5, 6, 7, 1, 2, 3, 4]\n"
     ]
    }
   ],
   "source": [
    "def rotate_array(arr, k):\n",
    "    n = len(arr)\n",
    "    \n",
    "    k %= n\n",
    "    \n",
    "    arr[:] = arr[-k:] + arr[:-k]\n",
    "\n",
    "arr = [1, 2, 3, 4, 5, 6, 7]\n",
    "k = 3\n",
    "rotate_array(arr, k)\n",
    "print(\"Output:\", arr)"
   ]
  },
  {
   "cell_type": "code",
   "execution_count": 24,
   "id": "b83af926-95a9-43e3-9662-c9e2647f73d6",
   "metadata": {},
   "outputs": [
    {
     "name": "stdout",
     "output_type": "stream",
     "text": [
      "Output: [12, 9, 7, 5, 4, 2]\n"
     ]
    }
   ],
   "source": [
    "def reverse_array_inplace(arr):\n",
    "    start = 0\n",
    "    end = len(arr) - 1\n",
    "\n",
    "    while start < end:\n",
    "        # Swap elements at start and end indices\n",
    "        arr[start], arr[end] = arr[end], arr[start]\n",
    "        # Move start index towards the end\n",
    "        start += 1\n",
    "        # Move end index towards the start\n",
    "        end -= 1\n",
    "\n",
    "arr = [2, 4, 5, 7, 9, 12]\n",
    "reverse_array_inplace(arr)\n",
    "print(\"Output:\", arr)"
   ]
  },
  {
   "cell_type": "code",
   "execution_count": 25,
   "id": "9378eb35-3d70-41e0-bb1b-7f99f614fe9f",
   "metadata": {},
   "outputs": [
    {
     "name": "stdout",
     "output_type": "stream",
     "text": [
      "Output: 20\n"
     ]
    }
   ],
   "source": [
    "def find_max_element(arr):\n",
    "    max_element = arr[0]  # Assume the first element is the maximum\n",
    "    for num in arr:\n",
    "        if num > max_element:\n",
    "            max_element = num\n",
    "    return max_element\n",
    "\n",
    "arr = [10, 5, 20, 8, 15]\n",
    "print(\"Output:\", find_max_element(arr))\n"
   ]
  },
  {
   "cell_type": "code",
   "execution_count": 26,
   "id": "8eda5ba3-918d-4b54-8b6d-8879c9f1dc1f",
   "metadata": {},
   "outputs": [
    {
     "name": "stdout",
     "output_type": "stream",
     "text": [
      "Output: [1, 2, 3, 4, 5]\n"
     ]
    }
   ],
   "source": [
    "def remove_duplicates(arr):\n",
    "    if not arr:  # If the array is empty, return it as it is\n",
    "        return arr\n",
    "\n",
    "    idx = 1 \n",
    "    for i in range(1, len(arr)):\n",
    "        if arr[i] != arr[i - 1]:  \n",
    "            arr[idx] = arr[i]    \n",
    "            idx += 1              \n",
    "    return arr[:idx]             \n",
    "arr = [1, 1, 2, 2, 2, 3, 3, 4, 4, 4, 5, 5]\n",
    "print(\"Output:\", remove_duplicates(arr))"
   ]
  },
  {
   "cell_type": "code",
   "execution_count": null,
   "id": "b3ad802e-9f35-4396-867d-89d0da71f6b8",
   "metadata": {},
   "outputs": [],
   "source": []
  }
 ],
 "metadata": {
  "kernelspec": {
   "display_name": "Python 3 (ipykernel)",
   "language": "python",
   "name": "python3"
  },
  "language_info": {
   "codemirror_mode": {
    "name": "ipython",
    "version": 3
   },
   "file_extension": ".py",
   "mimetype": "text/x-python",
   "name": "python",
   "nbconvert_exporter": "python",
   "pygments_lexer": "ipython3",
   "version": "3.10.8"
  }
 },
 "nbformat": 4,
 "nbformat_minor": 5
}
